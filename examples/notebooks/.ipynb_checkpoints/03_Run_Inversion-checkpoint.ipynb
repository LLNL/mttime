{
 "cells": [
  {
   "cell_type": "markdown",
   "metadata": {},
   "source": [
    "## Moment Tensor Inversion using `tdmtpy`\n",
    "\n",
    "Now we can start the inversion using the input file we created.\n"
   ]
  },
  {
   "cell_type": "code",
   "execution_count": 1,
   "metadata": {},
   "outputs": [],
   "source": [
    "import tdmtpy\n",
    "%matplotlib inline\n",
    "\n",
    "from IPython.display import Image # to display image files inside the Jupyter notebook"
   ]
  },
  {
   "cell_type": "markdown",
   "metadata": {},
   "source": [
    "#### Let's take a look at mtinv.in\n",
    "\n",
    "```\n",
    "datetime         2019-07-16T20:11:01.470000Z\n",
    "longitude      -121.7568\n",
    "latitude       37.8187\n",
    "depth          10.0000,12.0000,20.0000\n",
    "path_to_data   40191336\n",
    "path_to_green  40191336/gil7\n",
    "green          herrmann\n",
    "components     ZRT\n",
    "degree         5\n",
    "weight         distance\n",
    "plot           1\n",
    "correlate      0\n",
    "    station  distance  azimuth  ts  npts   dt  used  longitude  latitude\n",
    " BK.QRDG.00     80.99   335.29  30   150 1.00     1    -122.14     38.48\n",
    " BK.RUSS.00     81.16   353.18  30   150 1.00     1    -121.87     38.54\n",
    "  BK.CVS.00     84.88   313.73  30   150 1.00     1    -122.46     38.35\n",
    " BK.OAKV.00     88.89   320.02  30   150 1.00     1    -122.41     38.43\n",
    " BK.MCCM.00    105.12   290.48  30   150 1.00     1    -122.88     38.14\n",
    " BK.FARB.00    110.46   263.41  30   150 1.00     1    -123.00     37.70\n",
    " BK.WELL.00    113.71    52.46  30   150 1.00     1    -120.72     38.44\n",
    "  BK.SAO.00    120.23   166.71  30   150 1.00     1    -121.45     36.76\n",
    "  BK.CMB.00    122.83    78.33  30   150 1.00     1    -120.39     38.03\n",
    " BK.MNRC.00    132.06   333.21  30   150 1.00     1    -122.44     38.88\n",
    "  BK.SCZ.00    139.07   166.84  30   150 1.00     1    -121.40     36.60\n",
    " BK.BUCR.00    142.56    96.01  30   150 1.00     1    -120.15     37.67\n",
    "```"
   ]
  },
  {
   "cell_type": "code",
   "execution_count": null,
   "metadata": {},
   "outputs": [],
   "source": [
    "# Call the Configure object to read the input file and set up the inversion\n",
    "config = tdmtpy.Configure(path_to_file=\"mtinv.in\")\n",
    "\n",
    "# Quick look at the attributes\n",
    "print(config)"
   ]
  },
  {
   "cell_type": "code",
   "execution_count": null,
   "metadata": {},
   "outputs": [],
   "source": [
    "# Pass the parameters to the Inversion object and launch the inversion\n",
    "# The default is to plot all solutions\n",
    "tdmt = tdmtpy.Inversion(config=config)\n",
    "tdmt.invert()"
   ]
  },
  {
   "cell_type": "code",
   "execution_count": null,
   "metadata": {},
   "outputs": [],
   "source": [
    "# You can display the png image files here\n",
    "Image(filename=\"bbwaves.d10.0000.00.png\")\n",
    "#Image(filename=\"bbwaves.d10.0000.01.png\")"
   ]
  },
  {
   "cell_type": "code",
   "execution_count": null,
   "metadata": {},
   "outputs": [],
   "source": []
  },
  {
   "cell_type": "code",
   "execution_count": null,
   "metadata": {},
   "outputs": [],
   "source": [
    "# Or turn on interactive display when you call the plotting function\n",
    "tdmt.plot(show=True)"
   ]
  },
  {
   "cell_type": "code",
   "execution_count": null,
   "metadata": {},
   "outputs": [],
   "source": [
    "# Or plot the results as a function of source depth\n",
    "tdmt.plot(view=\"depth\",show=True)"
   ]
  },
  {
   "cell_type": "code",
   "execution_count": null,
   "metadata": {},
   "outputs": [],
   "source": [
    "# Finally save the results to file, by default it will create two files: config.out and d{depth}mtinv.out\n",
    "# Default is to save all the results\n",
    "tdmt.write()\n",
    "!cat d12.0000.mtinv.out\n",
    "\n",
    "# Setting option to 'preferred' will only save the best solution\n",
    "tdmt.write(option=\"preferred\")"
   ]
  },
  {
   "cell_type": "markdown",
   "metadata": {},
   "source": [
    "# Find the best solution\n",
    "Make some changes to your input file, such as changing the time shifts, removing bad stations, etc. to get a better solution."
   ]
  },
  {
   "cell_type": "code",
   "execution_count": null,
   "metadata": {},
   "outputs": [],
   "source": []
  }
 ],
 "metadata": {
  "jupytext": {
   "formats": "ipynb,py:light",
   "text_representation": {
    "extension": ".py",
    "format_name": "light",
    "format_version": "1.5",
    "jupytext_version": "1.5.2"
   }
  },
  "kernelspec": {
   "display_name": "Python 3",
   "language": "python",
   "name": "python3"
  },
  "language_info": {
   "codemirror_mode": {
    "name": "ipython",
    "version": 3
   },
   "file_extension": ".py",
   "mimetype": "text/x-python",
   "name": "python",
   "nbconvert_exporter": "python",
   "pygments_lexer": "ipython3",
   "version": "3.8.5"
  }
 },
 "nbformat": 4,
 "nbformat_minor": 4
}
