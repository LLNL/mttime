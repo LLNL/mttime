{
 "cells": [
  {
   "cell_type": "markdown",
   "metadata": {},
   "source": [
    "## Moment Tensor Inversion using `MTtime`\n",
    "\n",
    "Now we can start the inversion using the input file we created.\n"
   ]
  },
  {
   "cell_type": "code",
   "execution_count": null,
   "metadata": {},
   "outputs": [],
   "source": [
    "import mttime"
   ]
  },
  {
   "cell_type": "markdown",
   "metadata": {},
   "source": [
    "#### Let's take a look at mtinv.in\n",
    "\n",
    "```\n",
    "datetime       2019-07-16T20:11:01.470000Z\n",
    "longitude      -121.7568\n",
    "latitude       37.8187\n",
    "depth          10.0000,12.0000,20.0000\n",
    "path_to_data   40191336\n",
    "path_to_green  40191336/gil7\n",
    "green          herrmann\n",
    "components     ZRT\n",
    "degree         5\n",
    "weight         distance\n",
    "plot           0\n",
    "correlate      0\n",
    "    station  distance  azimuth  ts  npts   dt  used  longitude  latitude\n",
    " BK.QRDG.00     80.99   335.29  30   150 1.00     1    -122.14     38.48\n",
    " BK.RUSS.00     81.16   353.18  30   150 1.00     1    -121.87     38.54\n",
    "  BK.CVS.00     84.88   313.73  30   150 1.00     1    -122.46     38.35\n",
    " BK.OAKV.00     88.89   320.02  30   150 1.00     1    -122.41     38.43\n",
    " BK.MCCM.00    105.12   290.48  30   150 1.00     1    -122.88     38.14\n",
    " BK.FARB.00    110.46   263.41  30   150 1.00     1    -123.00     37.70\n",
    " BK.WELL.00    113.71    52.46  30   150 1.00     1    -120.72     38.44\n",
    "  BK.SAO.00    120.23   166.71  30   150 1.00     1    -121.45     36.76\n",
    "  BK.CMB.00    122.83    78.33  30   150 1.00     1    -120.39     38.03\n",
    " BK.MNRC.00    132.06   333.21  30   150 1.00     1    -122.44     38.88\n",
    "  BK.SCZ.00    139.07   166.84  30   150 1.00     1    -121.40     36.60\n",
    " BK.BUCR.00    142.56    96.01  30   150 1.00     1    -120.15     37.67\n",
    "```"
   ]
  },
  {
   "cell_type": "code",
   "execution_count": null,
   "metadata": {},
   "outputs": [],
   "source": [
    "# Call the Configure object to read the input file and set up the inversion\n",
    "config = mttime.Configure(path_to_file=\"mtinv.in\")\n",
    "\n",
    "# Quick look at the attributes\n",
    "print(config)"
   ]
  },
  {
   "cell_type": "code",
   "execution_count": null,
   "metadata": {},
   "outputs": [],
   "source": [
    "# Pass the parameters to the Inversion object and launch the inversion\n",
    "# The default is to plot all solutions\n",
    "tdmt = mttime.Inversion(config=config)\n",
    "tdmt.invert()"
   ]
  },
  {
   "cell_type": "markdown",
   "metadata": {},
   "source": [
    "### Figure options\n",
    " - `view=\"waveform\"` to show the solution and waveform fits.\n",
    " - `view=\"depth\"` to show solution as a function of source depth.\n",
    " - `view=\"map\"` plots solution on a map.\n",
    " - `view=\"lune\"` plots the full moment tensor source-type on a lune."
   ]
  },
  {
   "cell_type": "code",
   "execution_count": null,
   "metadata": {},
   "outputs": [],
   "source": [
    "# To save figure to file set show=False\n",
    "\n",
    "# Plot waveform fits of the best solution (highest VR)\n",
    "tdmt.plot(view=\"waveform\", option=\"preferred\", show=True)\n",
    "tdmt.plot(view=\"depth\", show=True)\n",
    "tdmt.plot(view=\"map\", show=True)"
   ]
  },
  {
   "cell_type": "code",
   "execution_count": null,
   "metadata": {},
   "outputs": [],
   "source": [
    "# Compute full moment tensor and plot the result on the lune.\n",
    "config = mttime.Configure(path_to_file=\"mtinv.in\", degree=6)\n",
    "tdmt = mttime.Inversion(config=config)\n",
    "tdmt.invert()\n",
    "tdmt.plot(view=\"lune\", show=True)"
   ]
  },
  {
   "cell_type": "code",
   "execution_count": null,
   "metadata": {},
   "outputs": [],
   "source": [
    "# Finally save the results to file.\n",
    "# Default is to save all the results\n",
    "tdmt.write()\n",
    "\n",
    "# Setting option to 'preferred' will only save the best solution\n",
    "tdmt.write(option=\"preferred\")"
   ]
  },
  {
   "cell_type": "markdown",
   "metadata": {},
   "source": [
    "# Find the best solution\n",
    "Make some changes to your input file, such as changing the time shifts, removing bad stations, etc. to get a better solution. Check the solution folder ."
   ]
  },
  {
   "cell_type": "code",
   "execution_count": null,
   "metadata": {},
   "outputs": [],
   "source": []
  }
 ],
 "metadata": {
  "jupytext": {
   "formats": "ipynb,py:light"
  },
  "kernelspec": {
   "display_name": "obspy",
   "language": "python",
   "name": "obspy"
  },
  "language_info": {
   "codemirror_mode": {
    "name": "ipython",
    "version": 3
   },
   "file_extension": ".py",
   "mimetype": "text/x-python",
   "name": "python",
   "nbconvert_exporter": "python",
   "pygments_lexer": "ipython3",
   "version": "3.8.5"
  }
 },
 "nbformat": 4,
 "nbformat_minor": 4
}
